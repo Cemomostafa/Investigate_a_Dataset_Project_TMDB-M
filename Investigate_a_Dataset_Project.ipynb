{
 "cells": [
  {
   "cell_type": "markdown",
   "metadata": {},
   "source": [
    "> This data set contains information about 10,000 movies collected from The Movie Database (TMDb), including user ratings and revenue.\n",
    "\n",
    ">Certain columns, like ‘cast’ and ‘genres’, contain multiple values separated by pipe (|) characters. There are some odd characters in the ‘cast’ column. Don’t worry about cleaning them. You can leave them as is. The final two columns ending with “_adj” show the budget and revenue of the associated movie in terms of 2010 dollars, accounting for inflation over time.\n",
    "\n",
    ">The final two columns ending with “_adj” show the budget and revenue of the associated movie in terms of 2010 dollars, accounting for inflation over time.\n",
    "\n",
    "# Project: Investigate a Dataset - TMDb movie data\n",
    "\n",
    "## Table of Contents\n",
    "<ul>\n",
    "<li><a href=\"#intro\">Introduction</a></li>\n",
    "<li><a href=\"#wrangling\">Data Wrangling</a></li>\n",
    "<li><a href=\"#eda\">Exploratory Data Analysis</a></li>\n",
    "<li><a href=\"#conclusions\">Conclusions</a></li>\n",
    "<li><a href=\"#Limitations\">Limitations</a></li>\n",
    "</ul>"
   ]
  },
  {
   "cell_type": "markdown",
   "metadata": {},
   "source": [
    "<a id='intro'></a>\n",
    "## Introduction\n",
    "\n",
    "### Overview\n",
    "> The Movie Database (TMDb) is a community built movie and TV database. \n",
    "\n",
    ">I will try to anwser some questions might get in our minds when we see IMDB. \n",
    "\n",
    "#### Question that can analyised from this data set\n",
    "\n",
    "    1. Movies with highest and lowest profit.\n",
    "    2. The relation between expected revenue of movie and the release month.\n",
    "    3. Most Frequent Cast.\n",
    "    4. Features for Succesful Movies Criteria.\n"
   ]
  },
  {
   "cell_type": "code",
   "execution_count": 128,
   "metadata": {},
   "outputs": [],
   "source": [
    "# Use this cell to set up import statements for all of the packages that you\n",
    "#   plan to use.\n",
    "\n",
    "# Remember to include a 'magic word' so that your visualizations are plotted\n",
    "#   inline with the notebook. See this page for more:\n",
    "#   http://ipython.readthedocs.io/en/stable/interactive/magics.html\n",
    "import pandas as pd\n",
    "import numpy as np\n",
    "import seaborn as sns\n",
    "import matplotlib.pyplot as plt\n",
    "%matplotlib inline"
   ]
  },
  {
   "cell_type": "code",
   "execution_count": 129,
   "metadata": {},
   "outputs": [],
   "source": [
    "# # Upgrade pandas to use dataframe.explode() function. \n",
    "# !pip install --upgrade pandas==0.25.0"
   ]
  },
  {
   "cell_type": "markdown",
   "metadata": {},
   "source": [
    "<a id='wrangling'></a>\n",
    "## Data Wrangling Check the data\n",
    "\n"
   ]
  },
  {
   "cell_type": "code",
   "execution_count": 130,
   "metadata": {},
   "outputs": [],
   "source": [
    "# Load your data and print out a few lines. Perform operations to inspect data\n",
    "#   types and look for instances of missing or possibly errant data.\n",
    "\n",
    "df_movies = pd.read_csv('tmdb-movies.csv')\n"
   ]
  },
  {
   "cell_type": "code",
   "execution_count": 131,
   "metadata": {},
   "outputs": [
    {
     "name": "stdout",
     "output_type": "stream",
     "text": [
      "we have here 10866 movies to analyse\n"
     ]
    }
   ],
   "source": [
    "r,c = df_movies.shape\n",
    "print('we have here {} movies to analyse'.format(r))"
   ]
  },
  {
   "cell_type": "code",
   "execution_count": 132,
   "metadata": {},
   "outputs": [
    {
     "name": "stdout",
     "output_type": "stream",
     "text": [
      "       id    imdb_id  popularity     budget     revenue  \\\n",
      "0  135397  tt0369610   32.985763  150000000  1513528810   \n",
      "1   76341  tt1392190   28.419936  150000000   378436354   \n",
      "2  262500  tt2908446   13.112507  110000000   295238201   \n",
      "3  140607  tt2488496   11.173104  200000000  2068178225   \n",
      "4  168259  tt2820852    9.335014  190000000  1506249360   \n",
      "\n",
      "                 original_title  \\\n",
      "0                Jurassic World   \n",
      "1            Mad Max: Fury Road   \n",
      "2                     Insurgent   \n",
      "3  Star Wars: The Force Awakens   \n",
      "4                     Furious 7   \n",
      "\n",
      "                                                cast  \\\n",
      "0  Chris Pratt|Bryce Dallas Howard|Irrfan Khan|Vi...   \n",
      "1  Tom Hardy|Charlize Theron|Hugh Keays-Byrne|Nic...   \n",
      "2  Shailene Woodley|Theo James|Kate Winslet|Ansel...   \n",
      "3  Harrison Ford|Mark Hamill|Carrie Fisher|Adam D...   \n",
      "4  Vin Diesel|Paul Walker|Jason Statham|Michelle ...   \n",
      "\n",
      "                                            homepage          director  \\\n",
      "0                      http://www.jurassicworld.com/   Colin Trevorrow   \n",
      "1                        http://www.madmaxmovie.com/     George Miller   \n",
      "2     http://www.thedivergentseries.movie/#insurgent  Robert Schwentke   \n",
      "3  http://www.starwars.com/films/star-wars-episod...       J.J. Abrams   \n",
      "4                           http://www.furious7.com/         James Wan   \n",
      "\n",
      "                         tagline  ...  \\\n",
      "0              The park is open.  ...   \n",
      "1             What a Lovely Day.  ...   \n",
      "2     One Choice Can Destroy You  ...   \n",
      "3  Every generation has a story.  ...   \n",
      "4            Vengeance Hits Home  ...   \n",
      "\n",
      "                                            overview runtime  \\\n",
      "0  Twenty-two years after the events of Jurassic ...     124   \n",
      "1  An apocalyptic story set in the furthest reach...     120   \n",
      "2  Beatrice Prior must confront her inner demons ...     119   \n",
      "3  Thirty years after defeating the Galactic Empi...     136   \n",
      "4  Deckard Shaw seeks revenge against Dominic Tor...     137   \n",
      "\n",
      "                                      genres  \\\n",
      "0  Action|Adventure|Science Fiction|Thriller   \n",
      "1  Action|Adventure|Science Fiction|Thriller   \n",
      "2         Adventure|Science Fiction|Thriller   \n",
      "3   Action|Adventure|Science Fiction|Fantasy   \n",
      "4                      Action|Crime|Thriller   \n",
      "\n",
      "                                production_companies release_date vote_count  \\\n",
      "0  Universal Studios|Amblin Entertainment|Legenda...       6/9/15       5562   \n",
      "1  Village Roadshow Pictures|Kennedy Miller Produ...      5/13/15       6185   \n",
      "2  Summit Entertainment|Mandeville Films|Red Wago...      3/18/15       2480   \n",
      "3          Lucasfilm|Truenorth Productions|Bad Robot     12/15/15       5292   \n",
      "4  Universal Pictures|Original Film|Media Rights ...       4/1/15       2947   \n",
      "\n",
      "   vote_average  release_year    budget_adj   revenue_adj  \n",
      "0           6.5          2015  1.379999e+08  1.392446e+09  \n",
      "1           7.1          2015  1.379999e+08  3.481613e+08  \n",
      "2           6.3          2015  1.012000e+08  2.716190e+08  \n",
      "3           7.5          2015  1.839999e+08  1.902723e+09  \n",
      "4           7.3          2015  1.747999e+08  1.385749e+09  \n",
      "\n",
      "[5 rows x 21 columns]\n"
     ]
    }
   ],
   "source": [
    "print(df_movies.head())"
   ]
  },
  {
   "cell_type": "markdown",
   "metadata": {},
   "source": [
    "\n",
    "### Data Cleaning\n",
    ">1. We need to remove useless column such as id, imdb_id, vote_count, production_company, keywords, homepage.\n",
    ">2. Removing the duplication in the rows.\n",
    ">3. Some movies in this database have 0 budget and 0 revenue ,so we will be discarding such entries\n",
    ">4. Change release date column into date format.\n"
   ]
  },
  {
   "cell_type": "code",
   "execution_count": 133,
   "metadata": {},
   "outputs": [
    {
     "name": "stdout",
     "output_type": "stream",
     "text": [
      "Now after Cleaning the data we have here 3854 movies to analyse\n"
     ]
    }
   ],
   "source": [
    "# remove useless columns\n",
    "df_movies.drop(\n",
    "    ['homepage', 'tagline', 'keywords', 'overview', 'id', 'imdb_id', 'popularity', 'budget_adj', 'revenue_adj'], axis=1,\n",
    "    inplace=True)\n",
    "# remove any duplication\n",
    "df_movies.drop_duplicates(keep ='first' , inplace=True)\n",
    "# removing 0 budget and 0 revenue\n",
    "df_movies = df_movies[(df_movies.budget != 0) & (df_movies.revenue != 0)]\n",
    "#change release date to datatime format\n",
    "df_movies['release_date'] = pd.to_datetime(df_movies['release_date'])\n",
    "r,c = df_movies.shape\n",
    "print('Now after Cleaning the data we have here {} movies to analyse'.format(r))"
   ]
  },
  {
   "cell_type": "markdown",
   "metadata": {},
   "source": [
    "\n",
    "### Functions will be needed later "
   ]
  },
  {
   "cell_type": "code",
   "execution_count": 134,
   "metadata": {},
   "outputs": [],
   "source": [
    "#check IDs with the highest and lowest values in given column\n",
    "def check_highest_lowest(column_name):\n",
    "    # calculate highest and lowest ids in that column\n",
    "    idhigh = df_movies[column_name].idxmax()\n",
    "    idlow = df_movies[column_name].idxmin()\n",
    "    return idhigh, idlow"
   ]
  },
  {
   "cell_type": "code",
   "execution_count": 135,
   "metadata": {},
   "outputs": [],
   "source": [
    "def split_column_values(column):\n",
    "    data = column.str.cat(sep = '|')\n",
    "    data = pd.Series(data.split('|'))\n",
    "    count = data.value_counts(ascending = False)\n",
    "    return count"
   ]
  },
  {
   "cell_type": "markdown",
   "metadata": {},
   "source": [
    "<a id='eda'></a>\n",
    "## Exploratory Data Analysis\n",
    "\n",
    "### Research Question 1 (Movies with highest and lowest profit)"
   ]
  },
  {
   "cell_type": "code",
   "execution_count": 136,
   "metadata": {},
   "outputs": [
    {
     "name": "stdout",
     "output_type": "stream",
     "text": [
      "Avatar has the highest profit in all time with 2544505847 dollars profit\n",
      "The Warrior's Way has the highest loss in all time with 413912431 dollars loss\n"
     ]
    }
   ],
   "source": [
    "# calculate the profit for each movie\n",
    "df_movies.insert(2, 'profit' , df_movies['revenue'] - df_movies['budget'])\n",
    "# check which movies has the highest and the lowest profit\n",
    "idmax, idmin = check_highest_lowest('profit')\n",
    "\n",
    "print('{} has the highest profit in all time with {} dollars profit'.format(\n",
    "    df_movies['original_title'][idmax], df_movies['profit'][idmax]))\n",
    "\n",
    "if df_movies['profit'][idmin] < 0:\n",
    "    print('{} has the highest loss in all time with {} dollars loss'\n",
    "      .format(df_movies['original_title'][idmin], np.abs(df_movies['profit'][idmin])))\n",
    "else:\n",
    "    print('{} has the lowest profit in all time with {} dollars profit'\n",
    "          .format(df_movies['original_title'][idmin], df_movies['profit'][idmin]))\n"
   ]
  },
  {
   "cell_type": "markdown",
   "metadata": {},
   "source": [
    "### Research Question 2 : The relation between expected revenue of movie and the release month"
   ]
  },
  {
   "cell_type": "code",
   "execution_count": 137,
   "metadata": {},
   "outputs": [
    {
     "data": {
      "text/plain": [
       "month_name\n",
       "April        25262395079\n",
       "August       23838550535\n",
       "December     55772398866\n",
       "February     18337364478\n",
       "January      12019991530\n",
       "July         43692065879\n",
       "June         60438139445\n",
       "March        28901535426\n",
       "May          49388854699\n",
       "November     44513696833\n",
       "October      28465985529\n",
       "September    24393240143\n",
       "Name: revenue, dtype: int64"
      ]
     },
     "execution_count": 137,
     "metadata": {},
     "output_type": "execute_result"
    }
   ],
   "source": [
    "# To get the release month name for each movies\n",
    "df_movies['month_name']=df_movies['release_date'].apply(lambda x: x.strftime(\"%B\"))\n",
    "month_rev = df_movies.groupby('month_name')['revenue'].sum()\n",
    "month_rev"
   ]
  },
  {
   "cell_type": "code",
   "execution_count": 138,
   "metadata": {},
   "outputs": [
    {
     "data": {
      "text/plain": [
       "September    460\n",
       "December     415\n",
       "October      363\n",
       "June         340\n",
       "August       337\n",
       "July         316\n",
       "November     304\n",
       "May          291\n",
       "March        279\n",
       "April        267\n",
       "February     257\n",
       "January      225\n",
       "Name: month_name, dtype: int64"
      ]
     },
     "execution_count": 138,
     "metadata": {},
     "output_type": "execute_result"
    }
   ],
   "source": [
    "test=df_movies['month_name'].value_counts()\n",
    "test\n"
   ]
  },
  {
   "cell_type": "code",
   "execution_count": 139,
   "metadata": {},
   "outputs": [],
   "source": [
    "rev_pro=month_rev/test\n"
   ]
  },
  {
   "cell_type": "code",
   "execution_count": 151,
   "metadata": {},
   "outputs": [
    {
     "data": {
      "text/plain": [
       "Text(0, 0.5, 'Expected Revenue')"
      ]
     },
     "execution_count": 151,
     "metadata": {},
     "output_type": "execute_result"
    },
    {
     "data": {
      "image/png": "[encoded data removed]",
      "text/plain": [
       "<Figure size 1296x360 with 1 Axes>"
      ]
     },
     "metadata": {
      "needs_background": "light"
     },
     "output_type": "display_data"
    }
   ],
   "source": [
    "import calendar\n",
    "Month_name=list(calendar.month_name[1:])\n",
    "f, ax = plt.subplots(figsize=(18,5))\n",
    "plt.bar(Month_name, rev_pro, tick_label = Month_name)\n",
    "plt.title('Month vs Revenue')\n",
    "plt.xlabel('Month')\n",
    "plt.ylabel('Expected Revenue')"
   ]
  },
  {
   "cell_type": "markdown",
   "metadata": {},
   "source": [
    "#### From this chart, we can see that July and September have the highest expected average Revenue for movie releases"
   ]
  },
  {
   "cell_type": "markdown",
   "metadata": {},
   "source": [
    "### Research Question 3 : Most Frequent Cast\n",
    "\n",
    "#### We need to know the most Frequent cast "
   ]
  },
  {
   "cell_type": "code",
   "execution_count": 141,
   "metadata": {},
   "outputs": [
    {
     "data": {
      "text/plain": [
       "Robert De Niro       52\n",
       "Bruce Willis         46\n",
       "Samuel L. Jackson    44\n",
       "Nicolas Cage         43\n",
       "Matt Damon           36\n",
       "dtype: int64"
      ]
     },
     "execution_count": 141,
     "metadata": {},
     "output_type": "execute_result"
    }
   ],
   "source": [
    "cast_count = split_column_values(df_movies['cast'])\n",
    "cast_count.head()"
   ]
  },
  {
   "cell_type": "code",
   "execution_count": 142,
   "metadata": {},
   "outputs": [
    {
     "name": "stdout",
     "output_type": "stream",
     "text": [
      "Robert De Niro has the most casting count with 52\n"
     ]
    }
   ],
   "source": [
    "print('{} has the most casting count with {}'.format(cast_count.index[0],cast_count[0]))"
   ]
  },
  {
   "cell_type": "markdown",
   "metadata": {},
   "source": [
    "### Research Question 4 : Features for Succesful Movies Criteria\n",
    "\n",
    "#### We need to filter the dataset to get only the movies with average rating above 7"
   ]
  },
  {
   "cell_type": "code",
   "execution_count": 143,
   "metadata": {},
   "outputs": [
    {
     "name": "stdout",
     "output_type": "stream",
     "text": [
      "<class 'pandas.core.frame.DataFrame'>\n",
      "Int64Index: 522 entries, 1 to 10822\n",
      "Data columns (total 14 columns):\n",
      " #   Column                Non-Null Count  Dtype         \n",
      "---  ------                --------------  -----         \n",
      " 0   budget                522 non-null    int64         \n",
      " 1   revenue               522 non-null    int64         \n",
      " 2   profit                522 non-null    int64         \n",
      " 3   original_title        522 non-null    object        \n",
      " 4   cast                  521 non-null    object        \n",
      " 5   director              522 non-null    object        \n",
      " 6   runtime               522 non-null    int64         \n",
      " 7   genres                522 non-null    object        \n",
      " 8   production_companies  517 non-null    object        \n",
      " 9   release_date          522 non-null    datetime64[ns]\n",
      " 10  vote_count            522 non-null    int64         \n",
      " 11  vote_average          522 non-null    float64       \n",
      " 12  release_year          522 non-null    int64         \n",
      " 13  month_name            522 non-null    object        \n",
      "dtypes: datetime64[ns](1), float64(1), int64(6), object(6)\n",
      "memory usage: 61.2+ KB\n"
     ]
    }
   ],
   "source": [
    "df_rate_above_7=df_movies.query('vote_average > 7')\n",
    "df_rate_above_7.info()"
   ]
  },
  {
   "cell_type": "markdown",
   "metadata": {},
   "source": [
    "#### Average Budget of the selected movies"
   ]
  },
  {
   "cell_type": "code",
   "execution_count": 144,
   "metadata": {},
   "outputs": [
    {
     "data": {
      "text/plain": [
       "38655328.52681992"
      ]
     },
     "execution_count": 144,
     "metadata": {},
     "output_type": "execute_result"
    }
   ],
   "source": [
    "aver_Budget = df_rate_above_7['budget'].mean()\n",
    "aver_Budget"
   ]
  },
  {
   "cell_type": "markdown",
   "metadata": {},
   "source": [
    "####  Average Revenue of the selected movies"
   ]
  },
  {
   "cell_type": "code",
   "execution_count": 145,
   "metadata": {},
   "outputs": [
    {
     "data": {
      "text/plain": [
       "193090671.22988507"
      ]
     },
     "execution_count": 145,
     "metadata": {},
     "output_type": "execute_result"
    }
   ],
   "source": [
    "df_rate_above_7['revenue'].mean()"
   ]
  },
  {
   "cell_type": "markdown",
   "metadata": {},
   "source": [
    "####  Average Duration of the selected movies"
   ]
  },
  {
   "cell_type": "code",
   "execution_count": 146,
   "metadata": {},
   "outputs": [
    {
     "data": {
      "text/plain": [
       "121.955938697318"
      ]
     },
     "execution_count": 146,
     "metadata": {},
     "output_type": "execute_result"
    }
   ],
   "source": [
    "df_rate_above_7['runtime'].mean()"
   ]
  },
  {
   "cell_type": "markdown",
   "metadata": {},
   "source": [
    "####  Most Frequent Cast for the rated movies over 7"
   ]
  },
  {
   "cell_type": "code",
   "execution_count": 147,
   "metadata": {},
   "outputs": [
    {
     "data": {
      "text/plain": [
       "Tom Hanks            14\n",
       "Robert De Niro       12\n",
       "Leonardo DiCaprio    11\n",
       "Al Pacino            11\n",
       "Samuel L. Jackson    10\n",
       "dtype: int64"
      ]
     },
     "execution_count": 147,
     "metadata": {},
     "output_type": "execute_result"
    }
   ],
   "source": [
    "cast_count = split_column_values(df_rate_above_7['cast'])\n",
    "cast_count.head()"
   ]
  },
  {
   "cell_type": "markdown",
   "metadata": {},
   "source": [
    "####  Most Frequent Genres for the rated movies over 7"
   ]
  },
  {
   "cell_type": "code",
   "execution_count": 148,
   "metadata": {},
   "outputs": [
    {
     "data": {
      "text/plain": [
       "Drama       339\n",
       "Thriller    130\n",
       "Comedy      112\n",
       "Action      112\n",
       "Crime       109\n",
       "dtype: int64"
      ]
     },
     "execution_count": 148,
     "metadata": {},
     "output_type": "execute_result"
    }
   ],
   "source": [
    "genres_count = split_column_values(df_rate_above_7['genres'])\n",
    "genres_count.head()"
   ]
  },
  {
   "cell_type": "markdown",
   "metadata": {},
   "source": [
    "<a id='conclusions'></a>\n",
    "## Conclusions\n",
    "\n",
    "For a Movie to be in successful criteria with expected average rating above 7\n",
    "\n",
    "    1. Average Budget must be around 38 millon dollar.\n",
    "    2. Average duration of the movie must be 120 minutes.\n",
    "    3. Any one of these should be in the cast :Tom Hanks, Robert De Niro , Al Pacino , Leonardo DiCaprio ,Denzel Washington.\n",
    "    4. Genre must be : Drama, Thriller, Comedy, Action, Crime.\n",
    "\n",
    "<a id='Limitations'></a>\n",
    "### Limitations\n",
    "> This analysis was done considering the movies which had Average Rating above 7. \n",
    "\n"
   ]
  },
  {
   "cell_type": "code",
   "execution_count": 149,
   "metadata": {},
   "outputs": [
    {
     "data": {
      "text/plain": [
       "4294967295"
      ]
     },
     "execution_count": 149,
     "metadata": {},
     "output_type": "execute_result"
    }
   ],
   "source": [
    "from subprocess import call\n",
    "call(['python', '-m', 'nbconvert', 'Investigate_a_Dataset.ipynb'])"
   ]
  }
 ],
 "metadata": {
  "kernelspec": {
   "display_name": "Python 3",
   "language": "python",
   "name": "python3"
  },
  "language_info": {
   "codemirror_mode": {
    "name": "ipython",
    "version": 3
   },
   "file_extension": ".py",
   "mimetype": "text/x-python",
   "name": "python",
   "nbconvert_exporter": "python",
   "pygments_lexer": "ipython3",
   "version": "3.8.8"
  }
 },
 "nbformat": 4,
 "nbformat_minor": 2
}
